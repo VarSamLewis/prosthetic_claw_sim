{
 "cells": [
  {
   "cell_type": "code",
   "execution_count": 9,
   "id": "12b92490",
   "metadata": {},
   "outputs": [],
   "source": [
    "import pandas as pd\n",
    "import matplotlib.pyplot as plt\n",
    "import numpy as np\n",
    "import matplotlib.animation as animation\n",
    "\n",
    "file_path = r'C:\\Users\\samle\\source\\repos\\prosthetic_claw_sim\\emg_data\\output.csv'"
   ]
  },
  {
   "cell_type": "code",
   "execution_count": 12,
   "id": "86463d70",
   "metadata": {},
   "outputs": [],
   "source": [
    "def load_data(file_path):\n",
    "    if not file_path.endswith('.csv'):\n",
    "        raise ValueError(\"The file must be a CSV file.\")\n",
    "    else:\n",
    "        df = pd.read_csv(file_path)\n",
    "\n",
    "    return df\n",
    "\n",
    "def validate_data(df):\n",
    "    if df.isnull().values.any():\n",
    "        raise ValueError(\"Data contains null values.\")\n",
    "    if not all(df.dtypes == 'float64'):\n",
    "        raise ValueError(\"All columns must be of float type.\")\n",
    "    if df.shape[1] != 4:\n",
    "        raise ValueError(\"Data must contain exactly 4 columns.\")\n",
    "    required_columns = {'time', 'emg', 'left', 'right'}\n",
    "    if not required_columns.issubset(df.columns):\n",
    "        raise ValueError(\"DataFrame must contain columns: time, emg, left, right.\")\n",
    "    \n",
    "# Plotting Left and Right Claw Angles over time\n",
    "def visualise_data(df):\n",
    "    fig, axs = plt.subplots(2, 1, figsize=(12, 10), sharex=True)\n",
    "    fig.subplots_adjust(hspace=0.4)\n",
    "\n",
    "    axs[0].plot(df['time'], np.degrees(df['left']), color='blue')\n",
    "    axs[0].set_title('Left Claw Angle')\n",
    "    axs[0].set_ylabel('Angle (degrees)')\n",
    "    axs[0].grid(True)\n",
    "\n",
    "    axs[1].plot(df['time'], np.degrees(df['right']), color='red')\n",
    "    axs[1].set_title('Right Claw Angle')\n",
    "    axs[1].set_xlabel('Time (s)')\n",
    "    axs[1].set_ylabel('Angle (degrees)')\n",
    "    axs[1].grid(True)\n",
    "\n",
    "    plt.show()\n",
    "\n",
    "# Setup the figure and lines\n",
    "def create_figure():\n",
    "    fig, ax = plt.subplots(figsize=(6, 6))\n",
    "    ax.set_xlim(-2, 2)\n",
    "    ax.set_ylim(-2, 2)\n",
    "    ax.set_aspect('equal')\n",
    "    ax.grid(True)\n",
    "\n",
    "    left_claw, = ax.plot([], [], 'b-', linewidth=4, label=\"Left Claw\")\n",
    "    right_claw, = ax.plot([], [], 'r-', linewidth=4, label=\"Right Claw\")\n",
    "    \n",
    "    base = (0, 0)\n",
    "    claw_length = 1.0\n",
    "\n",
    "    ax.legend()\n",
    "\n",
    "    return fig, ax, left_claw, right_claw, base, claw_length\n",
    "\n",
    "# Initialization function\n",
    "def init(left_claw, right_claw):\n",
    "    left_claw.set_data([], [])\n",
    "    right_claw.set_data([], [])\n",
    "    return left_claw, right_claw\n",
    "\n",
    "# Update function\n",
    "def update(frame, df, left_claw, right_claw, base, claw_length):\n",
    "    base_x, base_y = base\n",
    "    left_angle = df['left'].iloc[frame]\n",
    "    right_angle = df['right'].iloc[frame]\n",
    "\n",
    "    left_end_x = base_x + claw_length * np.cos(left_angle)\n",
    "    left_end_y = base_y + claw_length * np.sin(left_angle)\n",
    "\n",
    "    right_end_x = base_x + claw_length * np.cos(right_angle)\n",
    "    right_end_y = base_y + claw_length * np.sin(right_angle)\n",
    "\n",
    "    left_claw.set_data([base_x, left_end_x], [base_y, left_end_y])\n",
    "    right_claw.set_data([base_x, right_end_x], [base_y, right_end_y])\n",
    "\n",
    "    return left_claw, right_claw\n",
    "\n",
    "# Running the animation\n",
    "def run_animation(df):\n",
    "    fig, ax, left_claw, right_claw, base, claw_length = create_figure()\n",
    "\n",
    "    ani = animation.FuncAnimation(\n",
    "        fig,\n",
    "        update,\n",
    "        frames=len(df),\n",
    "        fargs=(df, left_claw, right_claw, base, claw_length),\n",
    "        init_func=lambda: init(left_claw, right_claw),\n",
    "        blit=True,\n",
    "        interval=20\n",
    "    )\n",
    "    \n",
    "    plt.show()\n",
    "\n"
   ]
  },
  {
   "cell_type": "code",
   "execution_count": 13,
   "id": "dccdc7d6",
   "metadata": {},
   "outputs": [
    {
     "ename": "TypeError",
     "evalue": "'NoneType' object is not subscriptable",
     "output_type": "error",
     "traceback": [
      "\u001b[1;31m---------------------------------------------------------------------------\u001b[0m",
      "\u001b[1;31mTypeError\u001b[0m                                 Traceback (most recent call last)",
      "Cell \u001b[1;32mIn[13], line 4\u001b[0m\n\u001b[0;32m      2\u001b[0m df \u001b[38;5;241m=\u001b[39m load_data(file_path)\n\u001b[0;32m      3\u001b[0m df \u001b[38;5;241m=\u001b[39m validate_data(df)\n\u001b[1;32m----> 4\u001b[0m \u001b[43mvisualise_data\u001b[49m\u001b[43m(\u001b[49m\u001b[43mdf\u001b[49m\u001b[43m)\u001b[49m\n\u001b[0;32m      5\u001b[0m run_animation(df)\n",
      "Cell \u001b[1;32mIn[12], line 25\u001b[0m, in \u001b[0;36mvisualise_data\u001b[1;34m(df)\u001b[0m\n\u001b[0;32m     22\u001b[0m fig, axs \u001b[38;5;241m=\u001b[39m plt\u001b[38;5;241m.\u001b[39msubplots(\u001b[38;5;241m2\u001b[39m, \u001b[38;5;241m1\u001b[39m, figsize\u001b[38;5;241m=\u001b[39m(\u001b[38;5;241m12\u001b[39m, \u001b[38;5;241m10\u001b[39m), sharex\u001b[38;5;241m=\u001b[39m\u001b[38;5;28;01mTrue\u001b[39;00m)\n\u001b[0;32m     23\u001b[0m fig\u001b[38;5;241m.\u001b[39msubplots_adjust(hspace\u001b[38;5;241m=\u001b[39m\u001b[38;5;241m0.4\u001b[39m)\n\u001b[1;32m---> 25\u001b[0m axs[\u001b[38;5;241m0\u001b[39m]\u001b[38;5;241m.\u001b[39mplot(\u001b[43mdf\u001b[49m\u001b[43m[\u001b[49m\u001b[38;5;124;43m'\u001b[39;49m\u001b[38;5;124;43mtime\u001b[39;49m\u001b[38;5;124;43m'\u001b[39;49m\u001b[43m]\u001b[49m, np\u001b[38;5;241m.\u001b[39mdegrees(df[\u001b[38;5;124m'\u001b[39m\u001b[38;5;124mleft\u001b[39m\u001b[38;5;124m'\u001b[39m]), color\u001b[38;5;241m=\u001b[39m\u001b[38;5;124m'\u001b[39m\u001b[38;5;124mblue\u001b[39m\u001b[38;5;124m'\u001b[39m)\n\u001b[0;32m     26\u001b[0m axs[\u001b[38;5;241m0\u001b[39m]\u001b[38;5;241m.\u001b[39mset_title(\u001b[38;5;124m'\u001b[39m\u001b[38;5;124mLeft Claw Angle\u001b[39m\u001b[38;5;124m'\u001b[39m)\n\u001b[0;32m     27\u001b[0m axs[\u001b[38;5;241m0\u001b[39m]\u001b[38;5;241m.\u001b[39mset_ylabel(\u001b[38;5;124m'\u001b[39m\u001b[38;5;124mAngle (degrees)\u001b[39m\u001b[38;5;124m'\u001b[39m)\n",
      "\u001b[1;31mTypeError\u001b[0m: 'NoneType' object is not subscriptable"
     ]
    },
    {
     "data": {
      "image/png": "[encoded data removed]",
      "text/plain": [
       "<Figure size 1200x1000 with 2 Axes>"
      ]
     },
     "metadata": {},
     "output_type": "display_data"
    }
   ],
   "source": [
    "if __name__ == \"__main__\":\n",
    "    df = load_data(file_path)\n",
    "    df = validate_data(df)\n",
    "    visualise_data(df)\n",
    "    run_animation(df)"
   ]
  },
  {
   "cell_type": "code",
   "execution_count": null,
   "id": "31dcb778",
   "metadata": {},
   "outputs": [],
   "source": []
  }
 ],
 "metadata": {
  "kernelspec": {
   "display_name": "Python 3",
   "language": "python",
   "name": "python3"
  },
  "language_info": {
   "codemirror_mode": {
    "name": "ipython",
    "version": 3
   },
   "file_extension": ".py",
   "mimetype": "text/x-python",
   "name": "python",
   "nbconvert_exporter": "python",
   "pygments_lexer": "ipython3",
   "version": "3.11.9"
  }
 },
 "nbformat": 4,
 "nbformat_minor": 5
}
